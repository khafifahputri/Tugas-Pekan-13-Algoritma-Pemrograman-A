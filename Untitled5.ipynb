{
  "nbformat": 4,
  "nbformat_minor": 0,
  "metadata": {
    "colab": {
      "name": "Untitled5.ipynb",
      "provenance": [],
      "collapsed_sections": [],
      "authorship_tag": "ABX9TyPZQGR8hhNhVGZPIzUGEkx8",
      "include_colab_link": true
    },
    "kernelspec": {
      "name": "python3",
      "display_name": "Python 3"
    },
    "language_info": {
      "name": "python"
    }
  },
  "cells": [
    {
      "cell_type": "markdown",
      "metadata": {
        "id": "view-in-github",
        "colab_type": "text"
      },
      "source": [
        "<a href=\"https://colab.research.google.com/github/khafifahputri/Tugas-Pekan-13-Algoritma-Pemrograman-A/blob/main/Untitled5.ipynb\" target=\"_parent\"><img src=\"https://colab.research.google.com/assets/colab-badge.svg\" alt=\"Open In Colab\"/></a>"
      ]
    },
    {
      "cell_type": "markdown",
      "source": [
        "Nama : Khafifah Putri Amalia\n",
        "NIM : H051211081\n",
        "KELAS : ALGORITMA PEMROGRAMAN A\n",
        "\n",
        "TUGAS PEKAN 13"
      ],
      "metadata": {
        "id": "0G-TXO0GOkwi"
      }
    },
    {
      "cell_type": "markdown",
      "source": [
        "- Buatlah program untuk menghitung total pembelian N buah barang dengan harga dan jumlah tertentu"
      ],
      "metadata": {
        "id": "7XZk0om-O1Ap"
      }
    },
    {
      "cell_type": "code",
      "execution_count": 2,
      "metadata": {
        "colab": {
          "base_uri": "https://localhost:8080/"
        },
        "id": "hAYv2VIbAqTx",
        "outputId": "3358ae9a-88cb-4e28-8f5f-8b0c998a5e58"
      },
      "outputs": [
        {
          "output_type": "stream",
          "name": "stdout",
          "text": [
            "Jumlah Barang : 5\n",
            "Barang ke- 1\n",
            "Harga Barang : 10000\n",
            "Barang ke- 2\n",
            "Harga Barang : 15000\n",
            "Barang ke- 3\n",
            "Harga Barang : 30000\n",
            "Barang ke- 4\n",
            "Harga Barang : 45000\n",
            "Barang ke- 5\n",
            "Harga Barang : 60000\n",
            "Total Pembelian  :  300000\n"
          ]
        }
      ],
      "source": [
        "JumlahBrg = int(input('Jumlah Barang : '))\n",
        "for A in range (JumlahBrg) :\n",
        "  print('Barang ke-',A+1)\n",
        "  HargaBrg = int(input('Harga Barang : '))\n",
        "  totalharga=0\n",
        "for B in range(HargaBrg) :\n",
        "  totalharga =0\n",
        "TotalHarga=JumlahBrg*HargaBrg\n",
        "print('Total Pembelian  : ',TotalHarga)"
      ]
    },
    {
      "cell_type": "markdown",
      "source": [
        "Buatlah program untuk menghitung banyaknya bilangan genap ataupun bilangan ganjil dari N buah bilangan yang diinput secara acak "
      ],
      "metadata": {
        "id": "V5AGCpd4Pi3o"
      }
    },
    {
      "cell_type": "code",
      "source": [
        "nilaiawal = int(input('Input Nilai Awal : '))\n",
        "nilaiakhir = int(input('Input Nilai Akhir : '))\n",
        "for A in range(nilaiawal,nilaiakhir+1):\n",
        "  if A %2 == 0:\n",
        "    print (A, 'adalah jenis Bilangan Genap')\n",
        "  else :\n",
        "    print (A, 'adalah jenis Bilangan Ganjil')"
      ],
      "metadata": {
        "colab": {
          "base_uri": "https://localhost:8080/"
        },
        "id": "pGHDRxA9BlJC",
        "outputId": "86b5b2a6-71d5-411a-d741-cc15dc115f4d"
      },
      "execution_count": 4,
      "outputs": [
        {
          "output_type": "stream",
          "name": "stdout",
          "text": [
            "Input Nilai Awal : 2\n",
            "Input Nilai Akhir : 20\n",
            "2 adalah jenis Bilangan Genap\n",
            "3 adalah jenis Bilangan Ganjil\n",
            "4 adalah jenis Bilangan Genap\n",
            "5 adalah jenis Bilangan Ganjil\n",
            "6 adalah jenis Bilangan Genap\n",
            "7 adalah jenis Bilangan Ganjil\n",
            "8 adalah jenis Bilangan Genap\n",
            "9 adalah jenis Bilangan Ganjil\n",
            "10 adalah jenis Bilangan Genap\n",
            "11 adalah jenis Bilangan Ganjil\n",
            "12 adalah jenis Bilangan Genap\n",
            "13 adalah jenis Bilangan Ganjil\n",
            "14 adalah jenis Bilangan Genap\n",
            "15 adalah jenis Bilangan Ganjil\n",
            "16 adalah jenis Bilangan Genap\n",
            "17 adalah jenis Bilangan Ganjil\n",
            "18 adalah jenis Bilangan Genap\n",
            "19 adalah jenis Bilangan Ganjil\n",
            "20 adalah jenis Bilangan Genap\n"
          ]
        }
      ]
    },
    {
      "cell_type": "markdown",
      "source": [
        "Buatlah program untuk menampilkan bilangan kelipatan 3 diantara bilangan tertentu"
      ],
      "metadata": {
        "id": "XlTogUFTPtDW"
      }
    },
    {
      "cell_type": "code",
      "source": [
        "s = ''\n",
        "i = 0\n",
        "while (i<30):\n",
        "  s += str(i)+' '\n",
        "  i += 3\n",
        "print(s)"
      ],
      "metadata": {
        "colab": {
          "base_uri": "https://localhost:8080/"
        },
        "id": "tcIRXTA4B8nx",
        "outputId": "b9c74bb7-220f-4ce2-9f0d-123cfb5c12d2"
      },
      "execution_count": 5,
      "outputs": [
        {
          "output_type": "stream",
          "name": "stdout",
          "text": [
            "0 3 6 9 12 15 18 21 24 27 \n"
          ]
        }
      ]
    },
    {
      "cell_type": "markdown",
      "source": [
        "Buatlah program untuk menampilkan bentuk bilangan seperti berikut ini: Bilangan  : <input suatu bilangan (misal:5)>1"
      ],
      "metadata": {
        "id": "gGL5HuzUP3wO"
      }
    },
    {
      "cell_type": "code",
      "source": [
        "s = ''\n",
        "for i in range (1,6) :\n",
        "  s += str(i)+' '\n",
        "  print (s)"
      ],
      "metadata": {
        "colab": {
          "base_uri": "https://localhost:8080/"
        },
        "id": "vVllYXA5IsSV",
        "outputId": "19e3f3f3-1c6e-4398-fb26-d2aa1c426c18"
      },
      "execution_count": 8,
      "outputs": [
        {
          "output_type": "stream",
          "name": "stdout",
          "text": [
            "1 \n",
            "1 2 \n",
            "1 2 3 \n",
            "1 2 3 4 \n",
            "1 2 3 4 5 \n"
          ]
        }
      ]
    },
    {
      "cell_type": "markdown",
      "source": [
        "Buatlah program untuk menghitung dan menampilkam bentuk berikut ini:\n",
        "No     Nama Mahasiswa   Nilai Tugas   Nilai Kuis   Nilai UTS  Nilai UAS"
      ],
      "metadata": {
        "id": "xydSqfOVRsdV"
      }
    },
    {
      "cell_type": "code",
      "source": [
        "from prettytable import PrettyTable\n",
        "tabel_mahasiswa = PrettyTable ([\"No.\", \"Nama Mahasiswa\", \"Nilai Tugas\", \"Nilai Kuis\", \"Nilai UTS\", \"Nilai UAS\"])\n",
        "tabel_mahasiswa.add_row([\"1\", \" \", \" \", \" \", \" \", \" \"])\n",
        "tabel_mahasiswa.add_row([\"2\", \" \", \" \", \" \", \" \", \" \"])\n",
        "tabel_mahasiswa.add_row([\" \", \" \", \" \", \" \", \" \", \" \"])\n",
        "tabel_mahasiswa.add_row([\" \", \" \", \" \", \" \", \" \", \" \"])\n",
        "print(tabel_mahasiswa)"
      ],
      "metadata": {
        "colab": {
          "base_uri": "https://localhost:8080/"
        },
        "id": "UWRexyvbLF2E",
        "outputId": "d0117bac-3e19-4bf7-b572-0abdf3b3f685"
      },
      "execution_count": 23,
      "outputs": [
        {
          "output_type": "stream",
          "name": "stdout",
          "text": [
            "+-----+----------------+-------------+------------+-----------+-----------+\n",
            "| No. | Nama Mahasiswa | Nilai Tugas | Nilai Kuis | Nilai UTS | Nilai UAS |\n",
            "+-----+----------------+-------------+------------+-----------+-----------+\n",
            "|  1  |                |             |            |           |           |\n",
            "|  2  |                |             |            |           |           |\n",
            "|     |                |             |            |           |           |\n",
            "|     |                |             |            |           |           |\n",
            "+-----+----------------+-------------+------------+-----------+-----------+\n"
          ]
        }
      ]
    },
    {
      "cell_type": "markdown",
      "source": [
        "Penjumlahan Matriks"
      ],
      "metadata": {
        "id": "VSEEBn0nTWx8"
      }
    },
    {
      "cell_type": "code",
      "source": [
        "putri1 = [\n",
        "        [2, 3],\n",
        "        [4, 8],\n",
        "]\n",
        "\n",
        "puput2 = [\n",
        "        [3, 4],\n",
        "        [1, 9],\n",
        "]\n",
        "\n",
        "amalia2= []\n",
        "\n",
        "for A in range(0, len(putri1)):\n",
        "    for B in range(0, len(putri1[0])):\n",
        "        print (putri1[A][B] + puput2[A][B], end=' '),\n",
        "    print('')"
      ],
      "metadata": {
        "colab": {
          "base_uri": "https://localhost:8080/"
        },
        "id": "-Ad7bDZ6Jgfz",
        "outputId": "3ac075de-ac05-4624-c44b-80a3cdb54182"
      },
      "execution_count": 24,
      "outputs": [
        {
          "output_type": "stream",
          "name": "stdout",
          "text": [
            "5 7 \n",
            "5 17 \n"
          ]
        }
      ]
    }
  ]
}